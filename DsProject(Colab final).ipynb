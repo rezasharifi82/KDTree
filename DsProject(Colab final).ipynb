{
 "cells": [
  {
   "cell_type": "markdown",
   "metadata": {
    "id": "vZ7nfW9gqqWs"
   },
   "source": [
    "# Pre requisite"
   ]
  },
  {
   "cell_type": "code",
   "execution_count": 1,
   "metadata": {
    "id": "sGinbXYlp5oI"
   },
   "outputs": [],
   "source": [
    "from collections import deque\n",
    "import pandas as pd\n",
    "import numpy as np\n",
    "from copy import deepcopy\n",
    "class Node:\n",
    "    def __init__(self, data, level=0,index=0):\n",
    "        self.left = None\n",
    "        self.index=index\n",
    "        self.data = data  # Tuple\n",
    "        self.right =None\n",
    "        self.parent = None\n",
    "        self.level = level\n",
    "        self.best_dis=float('inf')\n",
    "        self.best_node=None\n",
    "        self.nearest=set()\n",
    "        self.k=1\n"
   ]
  },
  {
   "cell_type": "code",
   "source": [
    "from IPython.display import HTML, display\n",
    "import time\n",
    "\n",
    "def progress(value, max=100):\n",
    "    return HTML(\"\"\"\n",
    "        <progress\n",
    "            value='{value}'\n",
    "            max='{max}',\n",
    "            style='width: 60%'\n",
    "        >\n",
    "            {value}\n",
    "        </progress>\n",
    "    \"\"\".format(value=value, max=max))\n",
    "\n",
    "\n",
    "ioi=1"
   ],
   "metadata": {
    "id": "9ncN7wdidKuX"
   },
   "execution_count": 50,
   "outputs": []
  },
  {
   "cell_type": "markdown",
   "metadata": {
    "id": "eHTyjGW0qlpb"
   },
   "source": [
    "# KD Tree"
   ]
  },
  {
   "cell_type": "code",
   "execution_count": null,
   "metadata": {
    "id": "bNBRHN0bqJuV"
   },
   "outputs": [],
   "source": [
    "class KDTree:\n",
    "    def __init__(self, size):\n",
    "        self.size = size\n",
    "        self.head=Node([size,size])\n",
    "        self.root=Node(None)\n",
    "        self.root.parent=self.head\n",
    "        self.root.level=0\n",
    "        self.nodes=deque()\n",
    "    def generate(self,alls:list):\n",
    "        t=alls[0]\n",
    "        counter=1\n",
    "        self.root.data=t\n",
    "        self.root.index=0\n",
    "        alls=iter(alls[1:])\n",
    "        while(True):\n",
    "            try:\n",
    "                d=next(alls)\n",
    "\n",
    "                self.insertion(d,counter)\n",
    "                counter+=1\n",
    "            except:\n",
    "                break\n",
    "    def insertion(self,data,counter):\n",
    "            p=self.root\n",
    "            level=0\n",
    "            sw=0\n",
    "            while(sw==0):\n",
    "                while(data[level%len(data)]<p.data[level%len(data)]):\n",
    "                    level+=1\n",
    "                    if(p.left is not None):\n",
    "                        p=p.left\n",
    "                    else:\n",
    "                        p.left=Node(data,level=level,index=counter)\n",
    "                        p.left.parent=p\n",
    "                        sw=1\n",
    "                        break\n",
    "                while(data[level%len(data)]>=p.data[level%len(data)] and sw==0):\n",
    "                    level+=1\n",
    "                    if(p.right is not None):\n",
    "                        p=p.right\n",
    "                    else:\n",
    "                        p.right=Node(data,level,index=counter)\n",
    "                        p.right.parent=p\n",
    "                        sw=1\n",
    "                        break\n",
    "    def dist(self, p1, p2):\n",
    "        return sum([(a - b) ** 2 for a, b in zip(p1, p2)])\n",
    "    def qualify(self,my_point:Node,examinary_data:Node):\n",
    "        d=self.dist(my_point.data,examinary_data.data)\n",
    "        t=(examinary_data,d)\n",
    "        my_point.nearest.add(t)\n",
    "        # print(examinary_data)\n",
    "        if(d<my_point.best_dis):\n",
    "            my_point.best_dis=d\n",
    "            my_point.best_node=examinary_data\n",
    "    def gate_check(self,root:Node):\n",
    "        #1 leaf\n",
    "        #2 right is ok\n",
    "        #3 left is ok\n",
    "\n",
    "        if(root.left is None and root.right is None):\n",
    "            return 1\n",
    "        elif(root.left is not None):\n",
    "            return 3\n",
    "        elif(root.right is not None):\n",
    "            return 2\n",
    "    def search(self,data:Node,root:Node,level):\n",
    "        tb=0\n",
    "        # print(root)\n",
    "        # print(root.data)\n",
    "        # print(self.gate_check(root))\n",
    "        if(root is None):\n",
    "            # print(root.data)\n",
    "            return self.prev_root\n",
    "        else:\n",
    "            # print(root.data)\n",
    "            if(data.data[level%len(data.data)]<root.data[level%len(data.data)]):\n",
    "                self.prev_root=root\n",
    "                tb=self.search(data,root.left,level+1)\n",
    "            else:\n",
    "                self.prev_root=root\n",
    "                tb=self.search(data,root.right,level+1)\n",
    "        self.qualify(data,tb)\n",
    "        self.qualify(data,root)\n",
    "        if(abs(root.data[level%len(data.data)]-data.data[level%len(data.data)])<data.best_dis):\n",
    "            if(data.data[level%len(data.data)]<root.data[level%len(data.data)]):\n",
    "                self.prev_root=root\n",
    "                tb=self.search(data,root.right,level+1)\n",
    "            else:\n",
    "                self.prev_root=root\n",
    "                tb=self.search(data,root.left,level+1)\n",
    "        elif(len(data.nearest)<data.k):\n",
    "                self.qualify(data,self.search(data,root.right,level+1))\n",
    "                self.qualify(data,self.search(data,root.left,level+1))\n",
    "\n",
    "\n",
    "\n",
    "        self.qualify(data,tb)\n",
    "        return tb\n",
    "    # def KNN_protocol(self,data:Node,k):\n",
    "    #     bests=deque()\n",
    "    #     best_dist=float('inf')\n",
    "    #     for i in range(k):\n",
    "    def nearest(self,data:Node):\n",
    "        best=self.search(data,self.root,0)\n",
    "    def knearest(self,data:Node,k):\n",
    "        self.search(data,self.root,0)\n",
    "        data.k=k\n",
    "        alpha=list(data.nearest)\n",
    "        alpha.sort(key=lambda x: x[-1])\n",
    "        return alpha[:k]\n",
    "    def point_exist(self,data:Node):\n",
    "        if(data.best_dis==float('inf')):\n",
    "            self.search(data,self.root,0)\n",
    "        if(data.best_dis==0):\n",
    "            return True\n",
    "        else:\n",
    "            return False\n",
    "    def rewire(self,root:Node):\n",
    "        if(root is None):\n",
    "            return\n",
    "        else:\n",
    "            if(root.right is not None):\n",
    "                root.right.parent=root\n",
    "                self.rewire(root.right)\n",
    "            if(root.left is not None):\n",
    "                root.left.parent=root\n",
    "                self.rewire(root.left)\n",
    "    def find_min(self,root:Node,level):\n",
    "        s=0\n",
    "        l=0\n",
    "        best=Node(root.data)\n",
    "        if(root.left is None and root.right is None):\n",
    "            return root\n",
    "        if(root.right is not None):\n",
    "            s=self.find_min(root.right,level)\n",
    "            if(s.data[level%len(s.data)]<=best.data[level%len(best.data)]):\n",
    "                best=Node(s.data)\n",
    "        if(root.left is not None):\n",
    "            l=self.find_min(root.left,level)\n",
    "            if(l.data[level%len(l.data)]<=best.data[level%len(best.data)]):\n",
    "                best=Node(l.data)\n",
    "        return best\n",
    "    def find_range(self):\n",
    "        b=list(self)\n",
    "        print(b[0])\n",
    "\n",
    "\n",
    "    def find_max(self,root:Node,level):\n",
    "        s=0\n",
    "        l=0\n",
    "        best=Node(root.data)\n",
    "        if(root.left is None and root.right is None):\n",
    "            return root\n",
    "        if(root.right is not None):\n",
    "            s=self.find_max(root.right,level)\n",
    "            if(s.data[level%len(s.data)]>=best.data[level%len(best.data)]):\n",
    "                best=Node(s.data)\n",
    "        if(root.left is not None):\n",
    "            l=self.find_max(root.left,level)\n",
    "            if(l.data[level%len(l.data)]>=best.data[level%len(best.data)]):\n",
    "                best=Node(l.data)\n",
    "        return best\n",
    "    def replacement(self,root:Node):\n",
    "        if(root.right is not None):\n",
    "            level=root.level\n",
    "            s=self.find_min(root.right,level)\n",
    "        elif(root.left is not None):\n",
    "            level=root.level\n",
    "            s=self.find_max(root.left,level)\n",
    "        else:\n",
    "            s=None\n",
    "        return s\n",
    "    def delete_it(self,target:Node):\n",
    "        if(self.point_exist(target)):\n",
    "            self.delete_node(self.root,target)\n",
    "            self.rewire(self.root)\n",
    "        else:\n",
    "            print(\"Doesn't exist #7898\")\n",
    "    def delete_node(self,root:Node,target:Node):\n",
    "        if(1==1):\n",
    "            if(root.data==target.data):\n",
    "                if(root.left is None and root.left is None):\n",
    "                    if(root.parent.right.data==root.data):\n",
    "                        root.parent.right=None\n",
    "                    elif(root.parent.left==root.data):\n",
    "                        root.parent.left=None\n",
    "                    root=None\n",
    "                    return None\n",
    "                else:\n",
    "                    s=self.replacement(root)\n",
    "                    #################################action line\n",
    "                    if(s is not None):\n",
    "                        temp=s.data\n",
    "                        temp1=s.index\n",
    "                        self.delete_node(root,s)\n",
    "                        root.data=temp\n",
    "                        root.index=temp1\n",
    "                    else:\n",
    "                        print(root.data)\n",
    "                        print(\"#8949-12044\")\n",
    "                        root=None\n",
    "                        return 0\n",
    "            elif(root.data[root.level%len(root.data)]>target.data[root.level%len(root.data)]):\n",
    "                if (root.left is not None):\n",
    "                    self.delete_node(root.left,target)\n",
    "                else:\n",
    "                    print(\"Impossible#47899\")\n",
    "            elif(root.data[root.level%len(root.data)]<=target.data[root.level%len(root.data)]):\n",
    "                if(root.right is not None):\n",
    "                    self.delete_node(root.right,target)\n",
    "                else:\n",
    "                    print(\"#$4550123\")\n",
    "        else:\n",
    "            print(\"Doesn't exist!\")\n",
    "    def __iter__(self):\n",
    "        a=[]\n",
    "        lev=0\n",
    "        self.nodes.append((self.root,lev))\n",
    "        m=0\n",
    "        k=0\n",
    "        while(len(self.nodes)):\n",
    "            b=self.nodes.popleft()\n",
    "            a.append(k:=self.to_list(b[0],b[1]))\n",
    "            m=max(m,k[-1])\n",
    "        k=0\n",
    "        # lev=[]\n",
    "        o=[]\n",
    "        for i in a:\n",
    "            if(i[1]>k):\n",
    "                k+=1\n",
    "                # print()\n",
    "                # print(i[0] , end=\" , \")\n",
    "            # lev.append(str(tuple(i[0])))\n",
    "            o.append(tuple(i[0]))\n",
    "        # o=lev.copy()\n",
    "        # lev=\",\".join(lev)\n",
    "        # print(lev)\n",
    "        yield o\n",
    "    def __str__(self) -> str:\n",
    "        a=[]\n",
    "        lev=0\n",
    "        self.nodes.append((self.root,lev))\n",
    "        m=0\n",
    "        k=0\n",
    "        while(len(self.nodes)):\n",
    "            b=self.nodes.popleft()\n",
    "            a.append(k:=self.to_list(b[0],b[1]))\n",
    "            m=max(m,k[-1])\n",
    "        k=0\n",
    "        lev=[]\n",
    "        # o=[]\n",
    "        for i in a:\n",
    "            if(i[1]==k):\n",
    "                print(i[0] , end=\" , \")\n",
    "            elif(i[1]>k):\n",
    "                k+=1\n",
    "                print()\n",
    "                print(i[0] , end=\" , \")\n",
    "            lev.append(str(tuple(i[0])))\n",
    "            # o.append(tuple(i[0]))\n",
    "        # o=lev.copy()\n",
    "        lev=\",\".join(lev)\n",
    "        # print(lev)\n",
    "        return \"\"\n",
    "    def to_list(self,root:Node,level):\n",
    "        if(root is None):\n",
    "            return ()\n",
    "        else:\n",
    "            if(root.left is not None):\n",
    "                self.nodes.append((root.left,level+1))\n",
    "            if(root.right is not None):\n",
    "                self.nodes.append((root.right,level+1))\n",
    "            return (tuple(root.data),level)\n",
    "            # return (tuple([root.level,root.data]),level)\n",
    "    # where to check outputs\n",
    "\n",
    "\n",
    "\n",
    "\n",
    "\n",
    "\n",
    "    # def find_nearest(self,data:Node):"
   ]
  },
  {
   "cell_type": "markdown",
   "metadata": {
    "id": "nn7D9fCsqURh"
   },
   "source": [
    "## Test Cell"
   ]
  },
  {
   "cell_type": "code",
   "execution_count": null,
   "metadata": {
    "colab": {
     "base_uri": "https://localhost:8080/"
    },
    "id": "weufavm1qSaR",
    "outputId": "1c2bd83b-9d1f-4a26-e144-6ff643d50f3b"
   },
   "outputs": [
    {
     "output_type": "stream",
     "name": "stdout",
     "text": [
      "(<__main__.Node object at 0x7f6c77db1c70>, 16)\n",
      "(<__main__.Node object at 0x7f6c77d2e2b0>, 180)\n",
      "(<__main__.Node object at 0x7f6c77d2efd0>, 461)\n",
      "(<__main__.Node object at 0x7f6c77d2e100>, 541)\n"
     ]
    }
   ],
   "source": [
    "a = [(51,75), (25,40), (70,70), (10,30), (35,52), (55,1),(60,80),(1,10),(50,50)]\n",
    "b=KDTree(len(a))\n",
    "b.generate(a)\n",
    "d=Node((29,40))\n",
    "d.level=1\n",
    "k=b.knearest(d,4)\n",
    "# b.delete_it(d)\n",
    "# print((b.find_max(b.root.left,1)).data)\n",
    "print(*k,sep=\"\\n\")\n",
    "# print(d.best_node)\n",
    "# print(b.point_exist(d))\n",
    "# print(list(b)[0])\n",
    "# print(b)\n",
    "# b.find_range()\n",
    "# print(b)"
   ]
  },
  {
   "cell_type": "markdown",
   "metadata": {
    "id": "scW5Jpb7qeDt"
   },
   "source": [
    "# Copy from drive\n",
    "\n"
   ]
  },
  {
   "cell_type": "code",
   "execution_count": null,
   "metadata": {
    "id": "Q4GyuQ42Ho2N"
   },
   "outputs": [],
   "source": [
    "import os\n",
    "import shutil"
   ]
  },
  {
   "cell_type": "code",
   "execution_count": null,
   "metadata": {
    "colab": {
     "base_uri": "https://localhost:8080/",
     "height": 390
    },
    "id": "Iiyf8ftyHksw",
    "outputId": "c7479bbf-b18c-415c-dd68-7dbcdf468b30"
   },
   "outputs": [
    {
     "output_type": "error",
     "ename": "FileExistsError",
     "evalue": "ignored",
     "traceback": [
      "\u001B[0;31m---------------------------------------------------------------------------\u001B[0m",
      "\u001B[0;31mFileExistsError\u001B[0m                           Traceback (most recent call last)",
      "\u001B[0;32m<ipython-input-17-e22dd016455d>\u001B[0m in \u001B[0;36m<module>\u001B[0;34m\u001B[0m\n\u001B[0;32m----> 1\u001B[0;31m \u001B[0mshutil\u001B[0m\u001B[0;34m.\u001B[0m\u001B[0mcopytree\u001B[0m\u001B[0;34m(\u001B[0m\u001B[0;34m\"drive/MyDrive/dsproject/\"\u001B[0m\u001B[0;34m,\u001B[0m\u001B[0;34m\"/content/new\"\u001B[0m\u001B[0;34m)\u001B[0m\u001B[0;34m\u001B[0m\u001B[0;34m\u001B[0m\u001B[0m\n\u001B[0m\u001B[1;32m      2\u001B[0m \u001B[0;34m\u001B[0m\u001B[0m\n\u001B[1;32m      3\u001B[0m \u001B[0mshutil\u001B[0m\u001B[0;34m.\u001B[0m\u001B[0mcopytree\u001B[0m\u001B[0;34m(\u001B[0m\u001B[0;34m\"drive/MyDrive/dsproject/test.csv\"\u001B[0m\u001B[0;34m,\u001B[0m\u001B[0;34m\"/content\"\u001B[0m\u001B[0;34m)\u001B[0m\u001B[0;34m\u001B[0m\u001B[0;34m\u001B[0m\u001B[0m\n\u001B[1;32m      4\u001B[0m \u001B[0mshutil\u001B[0m\u001B[0;34m.\u001B[0m\u001B[0mcopytree\u001B[0m\u001B[0;34m(\u001B[0m\u001B[0;34m\"drive/MyDrive/dsproject/test_labels.csv\"\u001B[0m\u001B[0;34m,\u001B[0m\u001B[0;34m\"/content\"\u001B[0m\u001B[0;34m)\u001B[0m\u001B[0;34m\u001B[0m\u001B[0;34m\u001B[0m\u001B[0m\n\u001B[1;32m      5\u001B[0m \u001B[0mshutil\u001B[0m\u001B[0;34m.\u001B[0m\u001B[0mcopytree\u001B[0m\u001B[0;34m(\u001B[0m\u001B[0;34m\"drive/MyDrive/dsproject/train.csv\"\u001B[0m\u001B[0;34m,\u001B[0m\u001B[0;34m\"/content\"\u001B[0m\u001B[0;34m)\u001B[0m\u001B[0;34m\u001B[0m\u001B[0;34m\u001B[0m\u001B[0m\n",
      "\u001B[0;32m/usr/lib/python3.8/shutil.py\u001B[0m in \u001B[0;36mcopytree\u001B[0;34m(src, dst, symlinks, ignore, copy_function, ignore_dangling_symlinks, dirs_exist_ok)\u001B[0m\n\u001B[1;32m    555\u001B[0m     \u001B[0;32mwith\u001B[0m \u001B[0mos\u001B[0m\u001B[0;34m.\u001B[0m\u001B[0mscandir\u001B[0m\u001B[0;34m(\u001B[0m\u001B[0msrc\u001B[0m\u001B[0;34m)\u001B[0m \u001B[0;32mas\u001B[0m \u001B[0mitr\u001B[0m\u001B[0;34m:\u001B[0m\u001B[0;34m\u001B[0m\u001B[0;34m\u001B[0m\u001B[0m\n\u001B[1;32m    556\u001B[0m         \u001B[0mentries\u001B[0m \u001B[0;34m=\u001B[0m \u001B[0mlist\u001B[0m\u001B[0;34m(\u001B[0m\u001B[0mitr\u001B[0m\u001B[0;34m)\u001B[0m\u001B[0;34m\u001B[0m\u001B[0;34m\u001B[0m\u001B[0m\n\u001B[0;32m--> 557\u001B[0;31m     return _copytree(entries=entries, src=src, dst=dst, symlinks=symlinks,\n\u001B[0m\u001B[1;32m    558\u001B[0m                      \u001B[0mignore\u001B[0m\u001B[0;34m=\u001B[0m\u001B[0mignore\u001B[0m\u001B[0;34m,\u001B[0m \u001B[0mcopy_function\u001B[0m\u001B[0;34m=\u001B[0m\u001B[0mcopy_function\u001B[0m\u001B[0;34m,\u001B[0m\u001B[0;34m\u001B[0m\u001B[0;34m\u001B[0m\u001B[0m\n\u001B[1;32m    559\u001B[0m                      \u001B[0mignore_dangling_symlinks\u001B[0m\u001B[0;34m=\u001B[0m\u001B[0mignore_dangling_symlinks\u001B[0m\u001B[0;34m,\u001B[0m\u001B[0;34m\u001B[0m\u001B[0;34m\u001B[0m\u001B[0m\n",
      "\u001B[0;32m/usr/lib/python3.8/shutil.py\u001B[0m in \u001B[0;36m_copytree\u001B[0;34m(entries, src, dst, symlinks, ignore, copy_function, ignore_dangling_symlinks, dirs_exist_ok)\u001B[0m\n\u001B[1;32m    456\u001B[0m         \u001B[0mignored_names\u001B[0m \u001B[0;34m=\u001B[0m \u001B[0mset\u001B[0m\u001B[0;34m(\u001B[0m\u001B[0;34m)\u001B[0m\u001B[0;34m\u001B[0m\u001B[0;34m\u001B[0m\u001B[0m\n\u001B[1;32m    457\u001B[0m \u001B[0;34m\u001B[0m\u001B[0m\n\u001B[0;32m--> 458\u001B[0;31m     \u001B[0mos\u001B[0m\u001B[0;34m.\u001B[0m\u001B[0mmakedirs\u001B[0m\u001B[0;34m(\u001B[0m\u001B[0mdst\u001B[0m\u001B[0;34m,\u001B[0m \u001B[0mexist_ok\u001B[0m\u001B[0;34m=\u001B[0m\u001B[0mdirs_exist_ok\u001B[0m\u001B[0;34m)\u001B[0m\u001B[0;34m\u001B[0m\u001B[0;34m\u001B[0m\u001B[0m\n\u001B[0m\u001B[1;32m    459\u001B[0m     \u001B[0merrors\u001B[0m \u001B[0;34m=\u001B[0m \u001B[0;34m[\u001B[0m\u001B[0;34m]\u001B[0m\u001B[0;34m\u001B[0m\u001B[0;34m\u001B[0m\u001B[0m\n\u001B[1;32m    460\u001B[0m     \u001B[0muse_srcentry\u001B[0m \u001B[0;34m=\u001B[0m \u001B[0mcopy_function\u001B[0m \u001B[0;32mis\u001B[0m \u001B[0mcopy2\u001B[0m \u001B[0;32mor\u001B[0m \u001B[0mcopy_function\u001B[0m \u001B[0;32mis\u001B[0m \u001B[0mcopy\u001B[0m\u001B[0;34m\u001B[0m\u001B[0;34m\u001B[0m\u001B[0m\n",
      "\u001B[0;32m/usr/lib/python3.8/os.py\u001B[0m in \u001B[0;36mmakedirs\u001B[0;34m(name, mode, exist_ok)\u001B[0m\n\u001B[1;32m    221\u001B[0m             \u001B[0;32mreturn\u001B[0m\u001B[0;34m\u001B[0m\u001B[0;34m\u001B[0m\u001B[0m\n\u001B[1;32m    222\u001B[0m     \u001B[0;32mtry\u001B[0m\u001B[0;34m:\u001B[0m\u001B[0;34m\u001B[0m\u001B[0;34m\u001B[0m\u001B[0m\n\u001B[0;32m--> 223\u001B[0;31m         \u001B[0mmkdir\u001B[0m\u001B[0;34m(\u001B[0m\u001B[0mname\u001B[0m\u001B[0;34m,\u001B[0m \u001B[0mmode\u001B[0m\u001B[0;34m)\u001B[0m\u001B[0;34m\u001B[0m\u001B[0;34m\u001B[0m\u001B[0m\n\u001B[0m\u001B[1;32m    224\u001B[0m     \u001B[0;32mexcept\u001B[0m \u001B[0mOSError\u001B[0m\u001B[0;34m:\u001B[0m\u001B[0;34m\u001B[0m\u001B[0;34m\u001B[0m\u001B[0m\n\u001B[1;32m    225\u001B[0m         \u001B[0;31m# Cannot rely on checking for EEXIST, since the operating system\u001B[0m\u001B[0;34m\u001B[0m\u001B[0;34m\u001B[0m\u001B[0;34m\u001B[0m\u001B[0m\n",
      "\u001B[0;31mFileExistsError\u001B[0m: [Errno 17] File exists: '/content/new'"
     ]
    }
   ],
   "source": [
    "\n",
    "# shutil.copytree(\"drive/MyDrive/dsproject/\",\"/content/new\")\n",
    "\n",
    "shutil.copytree(\"drive/MyDrive/dsproject/test.csv\",\"/content\")\n",
    "shutil.copytree(\"drive/MyDrive/dsproject/test_labels.csv\",\"/content\")\n",
    "shutil.copytree(\"drive/MyDrive/dsproject/train.csv\",\"/content\")\n",
    "shutil.copytree(\"drive/MyDrive/dsproject/train_labels.csv\",\"/content\")\n"
   ]
  },
  {
   "cell_type": "markdown",
   "metadata": {
    "id": "y3wzM4yyKMm-"
   },
   "source": [
    "# KNN Classifier"
   ]
  },
  {
   "cell_type": "code",
   "execution_count": 88,
   "metadata": {
    "id": "E3adPuBvQkI3"
   },
   "outputs": [],
   "source": [
    "class KNNClassifier:\n",
    "  def __init__(self,alls:list,k) -> None:   #alls should be tuple not a Node\n",
    "      self.main_tree=KDTree(k)\n",
    "      self.main_tree.generate(alls)\n",
    "      self.dataset=None\n",
    "      self.labels=None\n",
    "  def classify(self,data):     #data should be a Node or Not\n",
    "      if(not isinstance(data,Node)):\n",
    "          data=Node(data)\n",
    "      k=5\n",
    "      alpha=self.main_tree.knearest(data,k)\n",
    "      beta=self.extract(alpha)\n",
    "      zeta=[]\n",
    "      # print(beta)\n",
    "      for i in beta:\n",
    "        # print(i)\n",
    "        # print(labels.iloc[i])\n",
    "        zeta.append(self.labels.iloc[i])\n",
    "\n",
    "      zeta=pd.DataFrame(zeta)\n",
    "      zeta.reset_index(inplace=True)\n",
    "      zeta.columns=[\"index\",\"data\"]\n",
    "      # print(zeta)\n",
    "      return zeta[\"data\"].mode()[0]\n",
    "  def classify_all(self,datas:list):\n",
    "      out = display(progress(0, len(datas)), display_id=True)\n",
    "      out1=display(0,display_id=True)\n",
    "      \n",
    "\n",
    "      c=0\n",
    "      z=[]\n",
    "      for i in datas:\n",
    "        c+=1\n",
    "        ttt=self.classify(i)\n",
    "        percent=format((c/len(datas))*100,\".2f\")\n",
    "        z.append(ttt)\n",
    "        out1.update(str(percent)+\" %\")\n",
    "        out.update(progress(c,len(datas)))\n",
    "        # print(c, end=\" \")\n",
    "      return pd.Series(z)\n",
    "\n",
    "  \n",
    "  def extract(self,alpha:list):\n",
    "    temp=[]\n",
    "    for i in alpha:\n",
    "      temp.append(i[0].index)\n",
    "    return temp\n",
    "\n",
    "    \n",
    "\n",
    "\n"
   ]
  },
  {
   "cell_type": "markdown",
   "metadata": {
    "id": "CyCk2wv4d-mx"
   },
   "source": [
    "# Read Datasets to Train and Create the Tree\n"
   ]
  },
  {
   "cell_type": "code",
   "execution_count": 89,
   "metadata": {
    "id": "9zeqm6izeBZA"
   },
   "outputs": [],
   "source": [
    "# Train Dataset\n",
    "\n",
    "\n",
    "train_dataset=pd.read_csv(\"train.csv\")\n",
    "# test_case=train_dataset.iloc[200:300]\n",
    "# train_dataset=train_dataset.head(10)"
   ]
  },
  {
   "cell_type": "code",
   "execution_count": 90,
   "metadata": {
    "id": "6n_hRTZceG9g"
   },
   "outputs": [],
   "source": [
    "# Labels Dataset\n",
    "labels_dataset=pd.read_csv(\"train_labels.csv\")"
   ]
  },
  {
   "cell_type": "code",
   "execution_count": 91,
   "metadata": {
    "id": "bFboiSqZeL8A"
   },
   "outputs": [],
   "source": [
    "# Convert dataset rows to tuple\n",
    "final_dataset=train_dataset.iloc[:].apply(lambda x: tuple(x),axis=1)\n",
    "final_dataset=list(final_dataset)"
   ]
  },
  {
   "cell_type": "code",
   "execution_count": 92,
   "metadata": {
    "colab": {
     "base_uri": "https://localhost:8080/"
    },
    "id": "RH0zHJz117Po",
    "outputId": "03a4db52-34d7-439a-e195-ea7b1d32b2e9"
   },
   "outputs": [
    {
     "output_type": "execute_result",
     "data": {
      "text/plain": [
       "784"
      ]
     },
     "metadata": {},
     "execution_count": 92
    }
   ],
   "source": [
    "len(final_dataset[0])"
   ]
  },
  {
   "cell_type": "code",
   "execution_count": 93,
   "metadata": {
    "id": "4zUykOTGeMqI"
   },
   "outputs": [],
   "source": [
    "# Create the tree\n",
    "k=784\n",
    "mytree=KNNClassifier(final_dataset,k)\n",
    "mytree.dataset=final_dataset\n",
    "mytree.labels=labels_dataset"
   ]
  },
  {
   "cell_type": "markdown",
   "metadata": {
    "id": "p68fc82a1pJR"
   },
   "source": [
    "# It's Show Time!"
   ]
  },
  {
   "cell_type": "code",
   "execution_count": 78,
   "metadata": {
    "id": "uQHRIurD1uiM"
   },
   "outputs": [],
   "source": [
    "test_dataset=pd.read_csv(\"test.csv\")"
   ]
  },
  {
   "cell_type": "code",
   "source": [
    "test_dataset=test_dataset.iloc[:].apply(lambda x: tuple(x),axis=1)\n",
    "test_dataset=list(test_dataset)"
   ],
   "metadata": {
    "id": "5wysPKqJ4WCX"
   },
   "execution_count": 79,
   "outputs": []
  },
  {
   "cell_type": "code",
   "source": [
    "# pd.Series(labels_dataset.head(10)[\"0\"])\n",
    "test_label_dataset=pd.read_csv(\"test_labels.csv\")\n",
    "test_label_dataset.columns=[\"data\"]\n",
    "# test_label_dataset.head()"
   ],
   "metadata": {
    "id": "Ju50nkfn4jlV"
   },
   "execution_count": 80,
   "outputs": []
  },
  {
   "cell_type": "code",
   "source": [
    "serie_test_label=pd.Series(test_label_dataset[\"data\"])"
   ],
   "metadata": {
    "id": "8XO7ZNtM6i6v"
   },
   "execution_count": 81,
   "outputs": []
  },
  {
   "cell_type": "code",
   "source": [
    "res=mytree.classify_all(test_dataset)"
   ],
   "metadata": {
    "colab": {
     "base_uri": "https://localhost:8080/",
     "height": 53
    },
    "id": "nDSX_KTG7h0C",
    "outputId": "f81c7253-1f92-4e55-8c27-3aea828505bd"
   },
   "execution_count": 94,
   "outputs": [
    {
     "output_type": "display_data",
     "data": {
      "text/plain": [
       "<IPython.core.display.HTML object>"
      ],
      "text/html": [
       "\n",
       "        <progress\n",
       "            value='199'\n",
       "            max='199',\n",
       "            style='width: 60%'\n",
       "        >\n",
       "            199\n",
       "        </progress>\n",
       "    "
      ]
     },
     "metadata": {}
    },
    {
     "output_type": "display_data",
     "data": {
      "text/plain": [
       "'100.00 %'"
      ],
      "application/vnd.google.colaboratory.intrinsic+json": {
       "type": "string"
      }
     },
     "metadata": {}
    }
   ]
  },
  {
   "cell_type": "markdown",
   "source": [
    "## Accuracy"
   ],
   "metadata": {
    "id": "7kmodn7PadtL"
   }
  },
  {
   "cell_type": "code",
   "source": [
    "# a=[1,2,3,4,5,6,0,8,9,10]\n",
    "# b=[1,2,3,4,5,1,7,1,2,3]\n",
    "a=res.copy()\n",
    "b=serie_test_label.copy()\n",
    "# b=pd.Series(b)\n",
    "d=pd.Series(a==b)\n",
    "\n",
    "p=d.value_counts(True)\n",
    "type(p)\n",
    "acc=p.iloc[0]*100\n",
    "\n",
    "acc"
   ],
   "metadata": {
    "id": "8YFfgYHZ8JyA",
    "colab": {
     "base_uri": "https://localhost:8080/"
    },
    "outputId": "bee76ad2-89d5-4308-d8cf-5261fd7d328c"
   },
   "execution_count": 95,
   "outputs": [
    {
     "output_type": "execute_result",
     "data": {
      "text/plain": [
       "95.97989949748744"
      ]
     },
     "metadata": {},
     "execution_count": 95
    }
   ]
  }
 ],
 "metadata": {
  "colab": {
   "collapsed_sections": [
    "eHTyjGW0qlpb",
    "nn7D9fCsqURh",
    "scW5Jpb7qeDt",
    "CyCk2wv4d-mx"
   ],
   "provenance": []
  },
  "kernelspec": {
   "display_name": "Python 3",
   "name": "python3"
  },
  "language_info": {
   "name": "python"
  }
 },
 "nbformat": 4,
 "nbformat_minor": 0
}
